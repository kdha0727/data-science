{
 "cells": [
  {
   "cell_type": "code",
   "execution_count": null,
   "metadata": {
    "colab": {
     "base_uri": "https://localhost:8080/"
    },
    "executionInfo": {
     "elapsed": 2955,
     "status": "ok",
     "timestamp": 1621922853965,
     "user": {
      "displayName": "동하 김",
      "photoUrl": "",
      "userId": "01922314627790241447"
     },
     "user_tz": -540
    },
    "id": "VGCU1DJ28QrJ",
    "outputId": "bedae1c1-9fd7-48b0-c9b3-61b4c24475e4"
   },
   "outputs": [
    {
     "name": "stdout",
     "output_type": "stream",
     "text": [
      "Requirement already satisfied: SImpleITK in /usr/local/lib/python3.7/dist-packages (2.0.2)\n",
      "Requirement already satisfied: pyradiomics in /usr/local/lib/python3.7/dist-packages (3.0.1)\n",
      "Requirement already satisfied: PyWavelets>=0.4.0 in /usr/local/lib/python3.7/dist-packages (from pyradiomics) (1.1.1)\n",
      "Requirement already satisfied: pykwalify>=1.6.0 in /usr/local/lib/python3.7/dist-packages (from pyradiomics) (1.8.0)\n",
      "Requirement already satisfied: six>=1.10.0 in /usr/local/lib/python3.7/dist-packages (from pyradiomics) (1.15.0)\n",
      "Requirement already satisfied: numpy>=1.9.2 in /usr/local/lib/python3.7/dist-packages (from pyradiomics) (1.19.5)\n",
      "Requirement already satisfied: ruamel.yaml>=0.16.0 in /usr/local/lib/python3.7/dist-packages (from pykwalify>=1.6.0->pyradiomics) (0.17.4)\n",
      "Requirement already satisfied: python-dateutil>=2.8.0 in /usr/local/lib/python3.7/dist-packages (from pykwalify>=1.6.0->pyradiomics) (2.8.1)\n",
      "Requirement already satisfied: docopt>=0.6.2 in /usr/local/lib/python3.7/dist-packages (from pykwalify>=1.6.0->pyradiomics) (0.6.2)\n",
      "Requirement already satisfied: ruamel.yaml.clib>=0.1.2; platform_python_implementation == \"CPython\" and python_version < \"3.10\" in /usr/local/lib/python3.7/dist-packages (from ruamel.yaml>=0.16.0->pykwalify>=1.6.0->pyradiomics) (0.2.2)\n"
     ]
    }
   ],
   "source": [
    "!pip install SImpleITK pyradiomics"
   ]
  },
  {
   "cell_type": "code",
   "execution_count": null,
   "metadata": {
    "id": "5uGo8Cba9Uua"
   },
   "outputs": [],
   "source": [
    "from tqdm.notebook import tqdm\n",
    "import os\n",
    "from glob import glob\n",
    "import matplotlib.pyplot as plt\n",
    "import pandas as pd\n",
    "import numpy as np\n",
    "import SimpleITK as sitk\n",
    "import radiomics\n",
    "from PIL import Image\n",
    "from radiomics import firstorder, glcm, shape, glrlm, glszm, ngtdm, gldm, featureextractor\n",
    "import logging\n",
    "radiomics.logger.setLevel(logging.ERROR)"
   ]
  },
  {
   "cell_type": "code",
   "execution_count": null,
   "metadata": {
    "colab": {
     "base_uri": "https://localhost:8080/",
     "height": 281
    },
    "executionInfo": {
     "elapsed": 681,
     "status": "ok",
     "timestamp": 1621922857943,
     "user": {
      "displayName": "동하 김",
      "photoUrl": "",
      "userId": "01922314627790241447"
     },
     "user_tz": -540
    },
    "id": "JZaibV2d9GZY",
    "outputId": "f6cb1ede-66e9-4e5c-da1f-51a1f16561e6"
   },
   "outputs": [
    {
     "data": {
      "image/png": "[encoded data removed]",
      "text/plain": [
       "<Figure size 432x288 with 1 Axes>"
      ]
     },
     "metadata": {
      "needs_background": "light",
      "tags": []
     },
     "output_type": "display_data"
    }
   ],
   "source": [
    "data_dir = './T2ax'\n",
    "img_paths = glob(os.path.join(data_dir, '*'))\n",
    "\n",
    "plt.imshow(Image.open(img_paths[0]), 'gray')\n",
    "plt.title('Sample Image')\n",
    "plt.show()"
   ]
  },
  {
   "cell_type": "code",
   "execution_count": null,
   "metadata": {
    "colab": {
     "base_uri": "https://localhost:8080/",
     "height": 204
    },
    "executionInfo": {
     "elapsed": 215,
     "status": "ok",
     "timestamp": 1621922859977,
     "user": {
      "displayName": "동하 김",
      "photoUrl": "",
      "userId": "01922314627790241447"
     },
     "user_tz": -540
    },
    "id": "kR2dbfiS-y4x",
    "outputId": "01bef6f4-c8f0-4bc1-9231-057064df8619"
   },
   "outputs": [
    {
     "data": {
      "text/html": [
       "<div>\n",
       "<style scoped>\n",
       "    .dataframe tbody tr th:only-of-type {\n",
       "        vertical-align: middle;\n",
       "    }\n",
       "\n",
       "    .dataframe tbody tr th {\n",
       "        vertical-align: top;\n",
       "    }\n",
       "\n",
       "    .dataframe thead th {\n",
       "        text-align: right;\n",
       "    }\n",
       "</style>\n",
       "<table border=\"1\" class=\"dataframe\">\n",
       "  <thead>\n",
       "    <tr style=\"text-align: right;\">\n",
       "      <th></th>\n",
       "      <th>img_path</th>\n",
       "      <th>patientid</th>\n",
       "      <th>label</th>\n",
       "    </tr>\n",
       "  </thead>\n",
       "  <tbody>\n",
       "    <tr>\n",
       "      <th>0</th>\n",
       "      <td>./T2ax/ProstateX-0153_1_T2ax_11_rot25.png</td>\n",
       "      <td>0153</td>\n",
       "      <td>1</td>\n",
       "    </tr>\n",
       "    <tr>\n",
       "      <th>1</th>\n",
       "      <td>./T2ax/ProstateX-0124_1_T2ax_12_rot5.png</td>\n",
       "      <td>0124</td>\n",
       "      <td>1</td>\n",
       "    </tr>\n",
       "    <tr>\n",
       "      <th>2</th>\n",
       "      <td>./T2ax/ProstateX-0105_1_T2ax_13_rot30.png</td>\n",
       "      <td>0105</td>\n",
       "      <td>1</td>\n",
       "    </tr>\n",
       "    <tr>\n",
       "      <th>3</th>\n",
       "      <td>./T2ax/ProstateX-0031_1_T2ax_5_rot-15.png</td>\n",
       "      <td>0031</td>\n",
       "      <td>1</td>\n",
       "    </tr>\n",
       "    <tr>\n",
       "      <th>4</th>\n",
       "      <td>./T2ax/ProstateX-0084_2_T2ax_6_rot-20.png</td>\n",
       "      <td>0084</td>\n",
       "      <td>2</td>\n",
       "    </tr>\n",
       "  </tbody>\n",
       "</table>\n",
       "</div>"
      ],
      "text/plain": [
       "                                    img_path patientid label\n",
       "0  ./T2ax/ProstateX-0153_1_T2ax_11_rot25.png      0153     1\n",
       "1   ./T2ax/ProstateX-0124_1_T2ax_12_rot5.png      0124     1\n",
       "2  ./T2ax/ProstateX-0105_1_T2ax_13_rot30.png      0105     1\n",
       "3  ./T2ax/ProstateX-0031_1_T2ax_5_rot-15.png      0031     1\n",
       "4  ./T2ax/ProstateX-0084_2_T2ax_6_rot-20.png      0084     2"
      ]
     },
     "execution_count": 6,
     "metadata": {
      "tags": []
     },
     "output_type": "execute_result"
    }
   ],
   "source": [
    "info_df = pd.DataFrame(img_paths, columns=['img_path'])\n",
    "info_df['patientid'] = info_df['img_path'].apply(lambda x: x.split(os.sep)[-1].split('-')[1][:4])\n",
    "info_df['label'] = info_df['img_path'].apply(lambda x: x.split(os.sep)[-1].split('_')[1])\n",
    "info_df.head()"
   ]
  },
  {
   "cell_type": "code",
   "execution_count": null,
   "metadata": {
    "colab": {
     "base_uri": "https://localhost:8080/",
     "height": 281
    },
    "executionInfo": {
     "elapsed": 247,
     "status": "ok",
     "timestamp": 1621922861289,
     "user": {
      "displayName": "동하 김",
      "photoUrl": "",
      "userId": "01922314627790241447"
     },
     "user_tz": -540
    },
    "id": "nId2DYzA_4uE",
    "outputId": "a9d5a145-d3e4-48be-a384-57e336219b4f"
   },
   "outputs": [
    {
     "data": {
      "image/png": "[encoded data removed]",
      "text/plain": [
       "<Figure size 432x288 with 1 Axes>"
      ]
     },
     "metadata": {
      "needs_background": "light",
      "tags": []
     },
     "output_type": "display_data"
    }
   ],
   "source": [
    "plt.hist(info_df['label'])\n",
    "plt.title('Class Distribution')\n",
    "plt.xticks([1., 2., 3., 4])\n",
    "plt.show()"
   ]
  },
  {
   "cell_type": "code",
   "execution_count": null,
   "metadata": {
    "id": "FUd6QrdnA-qG"
   },
   "outputs": [],
   "source": [
    "def feature_extract(img_path, voxel = (1,1,1), features = ['firstorder', 'glcm', 'glszm', 'glrlm', 'ngtdm', 'shape']):\n",
    "    '''\n",
    "    :param image_path: image_array (numpy array)\n",
    "    :param image_mask: mask_array (numpy array)\n",
    "    :return: whole features, featureVector\n",
    "    '''\n",
    "    image = np.array(Image.open(img_path))[..., None]\n",
    "    mask = np.ones_like(image)\n",
    "    mask[0,:,:] = 0\n",
    "    mask[39,:,:] = 0\n",
    "    mask[:,0,:] = 0\n",
    "    mask[:,39,:] = 0\n",
    "    image = sitk.GetImageFromArray(image)\n",
    "    mask = sitk.GetImageFromArray(mask)\n",
    "    settings = {}\n",
    "    settings['binwidth'] = 5\n",
    "    settings['resampledPixelSpacing'] = None\n",
    "    settings['interpolator'] = 'sitkLinear'\n",
    "    settings['verbose'] = True\n",
    "    \n",
    "    extractor = featureextractor.RadiomicsFeatureExtractor(**settings)\n",
    "    extractor.settings['enableCExtensions'] = True\n",
    "    \n",
    "    for feature in features:\n",
    "        extractor.enableFeatureClassByName(feature.lower())\n",
    "\n",
    "    featureVector = extractor.execute(image, mask)\n",
    "    \n",
    "    cols = []; feats = []\n",
    "    for feature in features:\n",
    "        for featureName in sorted(featureVector.keys()):\n",
    "            if feature in featureName:\n",
    "                cols.append(featureName)\n",
    "                feats.append(featureVector[featureName])\n",
    "    return feats, cols"
   ]
  },
  {
   "cell_type": "code",
   "execution_count": null,
   "metadata": {
    "colab": {
     "base_uri": "https://localhost:8080/",
     "height": 67,
     "referenced_widgets": [
      "705336e54f374944b56e84f9ffb596a2",
      "a935554ff28f40f58a7c3943c5f0ad65",
      "6d0ec0aa509849328bc477b7692e152f",
      "85c0991f13e245ab823e74f61ebf0d62",
      "afe999e5874b4ae6b7d57b785a4d15cd",
      "b96a594ffdf34588adf9ca77f58c8399",
      "0597be4a035e4a9e991153abe387c3a5",
      "a55b6a6ea85340cdb007f9ce03b03309"
     ]
    },
    "executionInfo": {
     "elapsed": 205660,
     "status": "ok",
     "timestamp": 1621923070866,
     "user": {
      "displayName": "동하 김",
      "photoUrl": "",
      "userId": "01922314627790241447"
     },
     "user_tz": -540
    },
    "id": "DDA89ba7AzUI",
    "outputId": "c9a9e5da-8cd2-498e-9f33-04c6caf08a23"
   },
   "outputs": [
    {
     "data": {
      "application/vnd.jupyter.widget-view+json": {
       "model_id": "705336e54f374944b56e84f9ffb596a2",
       "version_major": 2,
       "version_minor": 0
      },
      "text/plain": [
       "HBox(children=(FloatProgress(value=1.0, bar_style='info', max=1.0), HTML(value='')))"
      ]
     },
     "metadata": {
      "tags": []
     },
     "output_type": "display_data"
    },
    {
     "name": "stdout",
     "output_type": "stream",
     "text": [
      "\n"
     ]
    }
   ],
   "source": [
    "cnt = 0\n",
    "for row in tqdm(info_df.iterrows()):\n",
    "    img_path = row[1]['img_path']\n",
    "    feats, cols = feature_extract(img_path)\n",
    "\n",
    "    row_w_feats = pd.DataFrame(pd.concat([row[1], pd.Series(feats, cols)])).T\n",
    "\n",
    "    if cnt == 0:\n",
    "        feat_df = row_w_feats\n",
    "    else:\n",
    "        feat_df = pd.concat([feat_df, row_w_feats])\n",
    "    \n",
    "    cnt += 1"
   ]
  },
  {
   "cell_type": "code",
   "execution_count": null,
   "metadata": {
    "id": "WXI7k4fTDAar"
   },
   "outputs": [],
   "source": [
    "from sklearn.model_selection import train_test_split\n",
    "from sklearn.preprocessing import MinMaxScaler\n",
    "\n",
    "# limit data due to time oroblem\n",
    "mask = slice(None, 1000)\n",
    "# mask = slice(None, None)\n",
    "\n",
    "# convert to uint8\n",
    "y = feat_df['label'].astype(np.uint8)[mask]\n",
    "\n",
    "# set as subset (binary)\n",
    "y = [0 if i == 1 else 1 for i in y]\n",
    "\n",
    "X = feat_df.drop(['img_path', 'patientid', 'label'], axis=1)[mask]\n",
    "\n",
    "my_scaler = MinMaxScaler().fit(X)\n",
    "X = my_scaler.transform(X)\n",
    "\n",
    "X_train, X_test, y_train, y_test = train_test_split(X, y, test_size=0.2)\n"
   ]
  },
  {
   "cell_type": "code",
   "execution_count": null,
   "metadata": {
    "id": "hj0d9jLrDpK8"
   },
   "outputs": [],
   "source": [
    "from sklearn.ensemble import RandomForestClassifier\n",
    "from sklearn.metrics import plot_confusion_matrix, roc_auc_score,classification_report,confusion_matrix,plot_roc_curve\n",
    "from sklearn.model_selection import RandomizedSearchCV"
   ]
  },
  {
   "cell_type": "code",
   "execution_count": null,
   "metadata": {
    "colab": {
     "base_uri": "https://localhost:8080/"
    },
    "executionInfo": {
     "elapsed": 122549,
     "status": "ok",
     "timestamp": 1621923194112,
     "user": {
      "displayName": "동하 김",
      "photoUrl": "",
      "userId": "01922314627790241447"
     },
     "user_tz": -540
    },
    "id": "jYByOi7IDt6F",
    "outputId": "b857ae6e-dcb6-4fb0-c868-20a9778e8449"
   },
   "outputs": [
    {
     "data": {
      "text/plain": [
       "RandomizedSearchCV(cv=None, error_score=nan,\n",
       "                   estimator=RandomForestClassifier(bootstrap=True,\n",
       "                                                    ccp_alpha=0.0,\n",
       "                                                    class_weight=None,\n",
       "                                                    criterion='gini',\n",
       "                                                    max_depth=None,\n",
       "                                                    max_features='auto',\n",
       "                                                    max_leaf_nodes=None,\n",
       "                                                    max_samples=None,\n",
       "                                                    min_impurity_decrease=0.0,\n",
       "                                                    min_impurity_split=None,\n",
       "                                                    min_samples_leaf=1,\n",
       "                                                    min_samples_split=2,\n",
       "                                                    min_weight_fraction_leaf=0.0,\n",
       "                                                    n_estimators=100,\n",
       "                                                    n_j...,\n",
       "                                                    oob_score=False,\n",
       "                                                    random_state=42, verbose=0,\n",
       "                                                    warm_start=False),\n",
       "                   iid='deprecated', n_iter=50, n_jobs=None,\n",
       "                   param_distributions={'class_weight': [{0: 0.9, 1: 10},\n",
       "                                                         {0: 1.1, 1: 10}],\n",
       "                                        'max_depth': range(5, 41, 5),\n",
       "                                        'max_features': range(5, 80, 5),\n",
       "                                        'n_estimators': [50, 100]},\n",
       "                   pre_dispatch='2*n_jobs', random_state=None, refit=True,\n",
       "                   return_train_score=False, scoring='roc_auc', verbose=0)"
      ]
     },
     "execution_count": 12,
     "metadata": {
      "tags": []
     },
     "output_type": "execute_result"
    }
   ],
   "source": [
    "params = {\n",
    "    'n_estimators': [50, 100],\n",
    "    'max_depth': range(5, 41, 5),\n",
    "    'max_features': range(5, 80, 5),\n",
    "    'class_weight': [{0:0.9 ,1:10}, {0:1.1, 1:10}]\n",
    "\n",
    "}\n",
    "\n",
    "clf = RandomForestClassifier(random_state=42)\n",
    "clf = RandomizedSearchCV(clf, params, scoring='roc_auc', n_iter=50)\n",
    "\n",
    "clf.fit(X_train, y_train)"
   ]
  },
  {
   "cell_type": "code",
   "execution_count": null,
   "metadata": {
    "colab": {
     "base_uri": "https://localhost:8080/",
     "height": 621
    },
    "executionInfo": {
     "elapsed": 520,
     "status": "ok",
     "timestamp": 1621923194622,
     "user": {
      "displayName": "동하 김",
      "photoUrl": "",
      "userId": "01922314627790241447"
     },
     "user_tz": -540
    },
    "id": "BXWAwOzWEh6x",
    "outputId": "7cc849b0-9c0e-417a-e4be-0aaa8def9136"
   },
   "outputs": [
    {
     "name": "stdout",
     "output_type": "stream",
     "text": [
      "Best Params: {'n_estimators': 50, 'max_features': 40, 'max_depth': 20, 'class_weight': {0: 0.9, 1: 10}}\n",
      "\n",
      "Test Set Confusion_matrix: \n",
      "\n",
      " [[182   2]\n",
      " [ 13   3]]\n",
      "\n",
      "Classification Report: \n",
      "\n",
      "               precision    recall  f1-score   support\n",
      "\n",
      "      Group1       0.93      0.99      0.96       184\n",
      "   Group2-5_       0.60      0.19      0.29        16\n",
      "\n",
      "    accuracy                           0.93       200\n",
      "   macro avg       0.77      0.59      0.62       200\n",
      "weighted avg       0.91      0.93      0.91       200\n",
      "\n",
      "Saving ROC curve...\n"
     ]
    },
    {
     "data": {
      "image/png": "[encoded data removed]",
      "text/plain": [
       "<Figure size 432x288 with 1 Axes>"
      ]
     },
     "metadata": {
      "needs_background": "light",
      "tags": []
     },
     "output_type": "display_data"
    }
   ],
   "source": [
    "print('Best Params:', clf.best_params_)\n",
    "print()\n",
    "\n",
    "y_pred = clf.predict(X_test)\n",
    "\n",
    "y_pred_prob = clf.predict_proba(X_test)[:, 0]\n",
    "\n",
    "print('Test Set Confusion_matrix: \\n\\n', confusion_matrix(y_test, y_pred))\n",
    "print('')\n",
    "print('Classification Report: \\n\\n', classification_report(y_test, y_pred, target_names=['Group1', 'Group2-5_']))\n",
    "\n",
    "# plot roc curve\n",
    "print('Saving ROC curve...')\n",
    "ax = plt.gca()\n",
    "rf_roc_curve = plot_roc_curve(clf, X_test, y_test, ax=ax, alpha=0.8)"
   ]
  }
 ],
 "metadata": {
  "colab": {
   "authorship_tag": "ABX9TyPl8S4Vpj3jAIQXhx5sDzkN",
   "collapsed_sections": [],
   "name": "20210525.ipynb",
   "provenance": []
  },
  "kernelspec": {
   "display_name": "Python 3",
   "language": "python",
   "name": "python3"
  },
  "language_info": {
   "name": "python"
  },
  "widgets": {
   "application/vnd.jupyter.widget-state+json": {
    "0597be4a035e4a9e991153abe387c3a5": {
     "model_module": "@jupyter-widgets/controls",
     "model_name": "DescriptionStyleModel",
     "state": {
      "_model_module": "@jupyter-widgets/controls",
      "_model_module_version": "1.5.0",
      "_model_name": "DescriptionStyleModel",
      "_view_count": null,
      "_view_module": "@jupyter-widgets/base",
      "_view_module_version": "1.2.0",
      "_view_name": "StyleView",
      "description_width": ""
     }
    },
    "6d0ec0aa509849328bc477b7692e152f": {
     "model_module": "@jupyter-widgets/controls",
     "model_name": "FloatProgressModel",
     "state": {
      "_dom_classes": [],
      "_model_module": "@jupyter-widgets/controls",
      "_model_module_version": "1.5.0",
      "_model_name": "FloatProgressModel",
      "_view_count": null,
      "_view_module": "@jupyter-widgets/controls",
      "_view_module_version": "1.5.0",
      "_view_name": "ProgressView",
      "bar_style": "success",
      "description": "",
      "description_tooltip": null,
      "layout": "IPY_MODEL_b96a594ffdf34588adf9ca77f58c8399",
      "max": 1,
      "min": 0,
      "orientation": "horizontal",
      "style": "IPY_MODEL_afe999e5874b4ae6b7d57b785a4d15cd",
      "value": 1
     }
    },
    "705336e54f374944b56e84f9ffb596a2": {
     "model_module": "@jupyter-widgets/controls",
     "model_name": "HBoxModel",
     "state": {
      "_dom_classes": [],
      "_model_module": "@jupyter-widgets/controls",
      "_model_module_version": "1.5.0",
      "_model_name": "HBoxModel",
      "_view_count": null,
      "_view_module": "@jupyter-widgets/controls",
      "_view_module_version": "1.5.0",
      "_view_name": "HBoxView",
      "box_style": "",
      "children": [
       "IPY_MODEL_6d0ec0aa509849328bc477b7692e152f",
       "IPY_MODEL_85c0991f13e245ab823e74f61ebf0d62"
      ],
      "layout": "IPY_MODEL_a935554ff28f40f58a7c3943c5f0ad65"
     }
    },
    "85c0991f13e245ab823e74f61ebf0d62": {
     "model_module": "@jupyter-widgets/controls",
     "model_name": "HTMLModel",
     "state": {
      "_dom_classes": [],
      "_model_module": "@jupyter-widgets/controls",
      "_model_module_version": "1.5.0",
      "_model_name": "HTMLModel",
      "_view_count": null,
      "_view_module": "@jupyter-widgets/controls",
      "_view_module_version": "1.5.0",
      "_view_name": "HTMLView",
      "description": "",
      "description_tooltip": null,
      "layout": "IPY_MODEL_a55b6a6ea85340cdb007f9ce03b03309",
      "placeholder": "​",
      "style": "IPY_MODEL_0597be4a035e4a9e991153abe387c3a5",
      "value": " 3703/? [03:25&lt;00:00, 18.00it/s]"
     }
    },
    "a55b6a6ea85340cdb007f9ce03b03309": {
     "model_module": "@jupyter-widgets/base",
     "model_name": "LayoutModel",
     "state": {
      "_model_module": "@jupyter-widgets/base",
      "_model_module_version": "1.2.0",
      "_model_name": "LayoutModel",
      "_view_count": null,
      "_view_module": "@jupyter-widgets/base",
      "_view_module_version": "1.2.0",
      "_view_name": "LayoutView",
      "align_content": null,
      "align_items": null,
      "align_self": null,
      "border": null,
      "bottom": null,
      "display": null,
      "flex": null,
      "flex_flow": null,
      "grid_area": null,
      "grid_auto_columns": null,
      "grid_auto_flow": null,
      "grid_auto_rows": null,
      "grid_column": null,
      "grid_gap": null,
      "grid_row": null,
      "grid_template_areas": null,
      "grid_template_columns": null,
      "grid_template_rows": null,
      "height": null,
      "justify_content": null,
      "justify_items": null,
      "left": null,
      "margin": null,
      "max_height": null,
      "max_width": null,
      "min_height": null,
      "min_width": null,
      "object_fit": null,
      "object_position": null,
      "order": null,
      "overflow": null,
      "overflow_x": null,
      "overflow_y": null,
      "padding": null,
      "right": null,
      "top": null,
      "visibility": null,
      "width": null
     }
    },
    "a935554ff28f40f58a7c3943c5f0ad65": {
     "model_module": "@jupyter-widgets/base",
     "model_name": "LayoutModel",
     "state": {
      "_model_module": "@jupyter-widgets/base",
      "_model_module_version": "1.2.0",
      "_model_name": "LayoutModel",
      "_view_count": null,
      "_view_module": "@jupyter-widgets/base",
      "_view_module_version": "1.2.0",
      "_view_name": "LayoutView",
      "align_content": null,
      "align_items": null,
      "align_self": null,
      "border": null,
      "bottom": null,
      "display": null,
      "flex": null,
      "flex_flow": null,
      "grid_area": null,
      "grid_auto_columns": null,
      "grid_auto_flow": null,
      "grid_auto_rows": null,
      "grid_column": null,
      "grid_gap": null,
      "grid_row": null,
      "grid_template_areas": null,
      "grid_template_columns": null,
      "grid_template_rows": null,
      "height": null,
      "justify_content": null,
      "justify_items": null,
      "left": null,
      "margin": null,
      "max_height": null,
      "max_width": null,
      "min_height": null,
      "min_width": null,
      "object_fit": null,
      "object_position": null,
      "order": null,
      "overflow": null,
      "overflow_x": null,
      "overflow_y": null,
      "padding": null,
      "right": null,
      "top": null,
      "visibility": null,
      "width": null
     }
    },
    "afe999e5874b4ae6b7d57b785a4d15cd": {
     "model_module": "@jupyter-widgets/controls",
     "model_name": "ProgressStyleModel",
     "state": {
      "_model_module": "@jupyter-widgets/controls",
      "_model_module_version": "1.5.0",
      "_model_name": "ProgressStyleModel",
      "_view_count": null,
      "_view_module": "@jupyter-widgets/base",
      "_view_module_version": "1.2.0",
      "_view_name": "StyleView",
      "bar_color": null,
      "description_width": "initial"
     }
    },
    "b96a594ffdf34588adf9ca77f58c8399": {
     "model_module": "@jupyter-widgets/base",
     "model_name": "LayoutModel",
     "state": {
      "_model_module": "@jupyter-widgets/base",
      "_model_module_version": "1.2.0",
      "_model_name": "LayoutModel",
      "_view_count": null,
      "_view_module": "@jupyter-widgets/base",
      "_view_module_version": "1.2.0",
      "_view_name": "LayoutView",
      "align_content": null,
      "align_items": null,
      "align_self": null,
      "border": null,
      "bottom": null,
      "display": null,
      "flex": null,
      "flex_flow": null,
      "grid_area": null,
      "grid_auto_columns": null,
      "grid_auto_flow": null,
      "grid_auto_rows": null,
      "grid_column": null,
      "grid_gap": null,
      "grid_row": null,
      "grid_template_areas": null,
      "grid_template_columns": null,
      "grid_template_rows": null,
      "height": null,
      "justify_content": null,
      "justify_items": null,
      "left": null,
      "margin": null,
      "max_height": null,
      "max_width": null,
      "min_height": null,
      "min_width": null,
      "object_fit": null,
      "object_position": null,
      "order": null,
      "overflow": null,
      "overflow_x": null,
      "overflow_y": null,
      "padding": null,
      "right": null,
      "top": null,
      "visibility": null,
      "width": null
     }
    }
   }
  }
 },
 "nbformat": 4,
 "nbformat_minor": 1
}